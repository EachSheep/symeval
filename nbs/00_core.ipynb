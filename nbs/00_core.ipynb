{
 "cells": [
  {
   "cell_type": "code",
   "execution_count": null,
   "metadata": {},
   "outputs": [],
   "source": [
    "%load_ext autoreload\n",
    "%autoreload 2"
   ]
  },
  {
   "cell_type": "code",
   "execution_count": null,
   "metadata": {},
   "outputs": [],
   "source": [
    "# | hide\n",
    "from nbdev.showdoc import *\n",
    "from fastcore.test import *"
   ]
  },
  {
   "cell_type": "markdown",
   "metadata": {},
   "source": [
    "# `symeval`\n"
   ]
  },
  {
   "cell_type": "code",
   "execution_count": null,
   "metadata": {},
   "outputs": [],
   "source": [
    "from symeval import *"
   ]
  },
  {
   "cell_type": "markdown",
   "metadata": {},
   "source": [
    "## API Reference\n"
   ]
  },
  {
   "cell_type": "code",
   "execution_count": null,
   "metadata": {},
   "outputs": [
    {
     "data": {
      "text/markdown": [
       "---\n",
       "\n",
       "[source](https://github.com/tongyx361/symeval/blob/main/symeval/core.py#LNone){target=\"_blank\" style=\"float:right; font-size:smaller\"}\n",
       "\n",
       "### EvaluatorMath\n",
       "\n",
       ">      EvaluatorMath (strict_extract:bool=True, include_percentage:bool=True,\n",
       ">                     rel_tol:float=1e-09, abs_tol:float=1e-08,\n",
       ">                     percent_rel_tol:float=0.001, ascii_only:bool=True)\n",
       "\n",
       "*Evaluator for math problems, capable of extracting answer segment from complex resp and processing various mathematical objects\n",
       "(e.g. fractions, symbolic expressions, matrices, vectors) and special text (e.g. bool values).*\n",
       "\n",
       "|    | **Type** | **Default** | **Details** |\n",
       "| -- | -------- | ----------- | ----------- |\n",
       "| strict_extract | bool | True |  |\n",
       "| include_percentage | bool | True | Whether to include percentage comparisons. |\n",
       "| rel_tol | float | 1e-09 | The relative tolerance for numerical comparisons. |\n",
       "| abs_tol | float | 1e-08 | The absolute tolerance for numerical comparisons. Necessary for precision issues. |\n",
       "| percent_rel_tol | float | 0.001 | The relative tolerance for percentage comparisons. Relative for different surface forms (e.g. 99% v.s. 0.99). |\n",
       "| ascii_only | bool | True | Only allowing ASCII characters |"
      ],
      "text/plain": [
       "---\n",
       "\n",
       "[source](https://github.com/tongyx361/symeval/blob/main/symeval/core.py#LNone){target=\"_blank\" style=\"float:right; font-size:smaller\"}\n",
       "\n",
       "### EvaluatorMath\n",
       "\n",
       ">      EvaluatorMath (strict_extract:bool=True, include_percentage:bool=True,\n",
       ">                     rel_tol:float=1e-09, abs_tol:float=1e-08,\n",
       ">                     percent_rel_tol:float=0.001, ascii_only:bool=True)\n",
       "\n",
       "*Evaluator for math problems, capable of extracting answer segment from complex resp and processing various mathematical objects\n",
       "(e.g. fractions, symbolic expressions, matrices, vectors) and special text (e.g. bool values).*\n",
       "\n",
       "|    | **Type** | **Default** | **Details** |\n",
       "| -- | -------- | ----------- | ----------- |\n",
       "| strict_extract | bool | True |  |\n",
       "| include_percentage | bool | True | Whether to include percentage comparisons. |\n",
       "| rel_tol | float | 1e-09 | The relative tolerance for numerical comparisons. |\n",
       "| abs_tol | float | 1e-08 | The absolute tolerance for numerical comparisons. Necessary for precision issues. |\n",
       "| percent_rel_tol | float | 0.001 | The relative tolerance for percentage comparisons. Relative for different surface forms (e.g. 99% v.s. 0.99). |\n",
       "| ascii_only | bool | True | Only allowing ASCII characters |"
      ]
     },
     "execution_count": null,
     "metadata": {},
     "output_type": "execute_result"
    }
   ],
   "source": [
    "show_doc(EvaluatorMath, title_level=3)"
   ]
  },
  {
   "cell_type": "code",
   "execution_count": null,
   "metadata": {},
   "outputs": [
    {
     "data": {
      "text/markdown": [
       "---\n",
       "\n",
       "[source](https://github.com/tongyx361/symeval/blob/main/symeval/core.py#LNone){target=\"_blank\" style=\"float:right; font-size:smaller\"}\n",
       "\n",
       "### EvaluatorMathBatch\n",
       "\n",
       ">      EvaluatorMathBatch (strict_extract:bool=True,\n",
       ">                          include_percentage:bool=True, rel_tol:float=1e-09,\n",
       ">                          abs_tol:float=1e-08, percent_rel_tol:float=0.001,\n",
       ">                          ascii_only:bool=True, timeout:int=5)\n",
       "\n",
       "*Batch evaluator for math problems, capable of extracting answer segment from complex resp and processing various mathematical objects\n",
       "(e.g. fractions, symbolic expressions, matrices, vectors) and special text (e.g. bool values).*\n",
       "\n",
       "|    | **Type** | **Default** | **Details** |\n",
       "| -- | -------- | ----------- | ----------- |\n",
       "| strict_extract | bool | True |  |\n",
       "| include_percentage | bool | True | Whether to include percentage comparisons. |\n",
       "| rel_tol | float | 1e-09 | The relative tolerance for numerical comparisons. |\n",
       "| abs_tol | float | 1e-08 | The absolute tolerance for numerical comparisons. Necessary for precision issues. |\n",
       "| percent_rel_tol | float | 0.001 | The absolute tolerance for percentage comparisons. |\n",
       "| ascii_only | bool | True | Only allowing ASCII characters |\n",
       "| timeout | int | 5 |  |"
      ],
      "text/plain": [
       "---\n",
       "\n",
       "[source](https://github.com/tongyx361/symeval/blob/main/symeval/core.py#LNone){target=\"_blank\" style=\"float:right; font-size:smaller\"}\n",
       "\n",
       "### EvaluatorMathBatch\n",
       "\n",
       ">      EvaluatorMathBatch (strict_extract:bool=True,\n",
       ">                          include_percentage:bool=True, rel_tol:float=1e-09,\n",
       ">                          abs_tol:float=1e-08, percent_rel_tol:float=0.001,\n",
       ">                          ascii_only:bool=True, timeout:int=5)\n",
       "\n",
       "*Batch evaluator for math problems, capable of extracting answer segment from complex resp and processing various mathematical objects\n",
       "(e.g. fractions, symbolic expressions, matrices, vectors) and special text (e.g. bool values).*\n",
       "\n",
       "|    | **Type** | **Default** | **Details** |\n",
       "| -- | -------- | ----------- | ----------- |\n",
       "| strict_extract | bool | True |  |\n",
       "| include_percentage | bool | True | Whether to include percentage comparisons. |\n",
       "| rel_tol | float | 1e-09 | The relative tolerance for numerical comparisons. |\n",
       "| abs_tol | float | 1e-08 | The absolute tolerance for numerical comparisons. Necessary for precision issues. |\n",
       "| percent_rel_tol | float | 0.001 | The absolute tolerance for percentage comparisons. |\n",
       "| ascii_only | bool | True | Only allowing ASCII characters |\n",
       "| timeout | int | 5 |  |"
      ]
     },
     "execution_count": null,
     "metadata": {},
     "output_type": "execute_result"
    }
   ],
   "source": [
    "show_doc(EvaluatorMathBatch, title_level=3)"
   ]
  },
  {
   "cell_type": "code",
   "execution_count": null,
   "metadata": {},
   "outputs": [
    {
     "data": {
      "text/markdown": [
       "---\n",
       "\n",
       "[source](https://github.com/tongyx361/symeval/blob/main/symeval/core.py#LNone){target=\"_blank\" style=\"float:right; font-size:smaller\"}\n",
       "\n",
       "### EvaluatorBase\n",
       "\n",
       ">      EvaluatorBase (strict_extract:bool=True)\n",
       "\n",
       "*Base class for evaluators.*"
      ],
      "text/plain": [
       "---\n",
       "\n",
       "[source](https://github.com/tongyx361/symeval/blob/main/symeval/core.py#LNone){target=\"_blank\" style=\"float:right; font-size:smaller\"}\n",
       "\n",
       "### EvaluatorBase\n",
       "\n",
       ">      EvaluatorBase (strict_extract:bool=True)\n",
       "\n",
       "*Base class for evaluators.*"
      ]
     },
     "execution_count": null,
     "metadata": {},
     "output_type": "execute_result"
    }
   ],
   "source": [
    "show_doc(EvaluatorBase, title_level=3)"
   ]
  },
  {
   "cell_type": "code",
   "execution_count": null,
   "metadata": {},
   "outputs": [
    {
     "data": {
      "text/markdown": [
       "---\n",
       "\n",
       "[source](https://github.com/tongyx361/symeval/blob/main/symeval/core.py#LNone){target=\"_blank\" style=\"float:right; font-size:smaller\"}\n",
       "\n",
       "### EvaluatorBatchBase\n",
       "\n",
       ">      EvaluatorBatchBase (strict_extract:bool=True, timeout:int=5)\n",
       "\n",
       "*Base class for batch evaluators, providing additional method for batch evaluation.*\n",
       "\n",
       "|    | **Type** | **Default** | **Details** |\n",
       "| -- | -------- | ----------- | ----------- |\n",
       "| strict_extract | bool | True |  |\n",
       "| timeout | int | 5 | The timeout for each evaluation in seconds. |"
      ],
      "text/plain": [
       "---\n",
       "\n",
       "[source](https://github.com/tongyx361/symeval/blob/main/symeval/core.py#LNone){target=\"_blank\" style=\"float:right; font-size:smaller\"}\n",
       "\n",
       "### EvaluatorBatchBase\n",
       "\n",
       ">      EvaluatorBatchBase (strict_extract:bool=True, timeout:int=5)\n",
       "\n",
       "*Base class for batch evaluators, providing additional method for batch evaluation.*\n",
       "\n",
       "|    | **Type** | **Default** | **Details** |\n",
       "| -- | -------- | ----------- | ----------- |\n",
       "| strict_extract | bool | True |  |\n",
       "| timeout | int | 5 | The timeout for each evaluation in seconds. |"
      ]
     },
     "execution_count": null,
     "metadata": {},
     "output_type": "execute_result"
    }
   ],
   "source": [
    "show_doc(EvaluatorBatchBase, title_level=3)"
   ]
  }
 ],
 "metadata": {
  "kernelspec": {
   "display_name": "python3",
   "language": "python",
   "name": "python3"
  }
 },
 "nbformat": 4,
 "nbformat_minor": 4
}
