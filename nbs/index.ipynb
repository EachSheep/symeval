{
 "cells": [
  {
   "cell_type": "code",
   "execution_count": null,
   "metadata": {},
   "outputs": [],
   "source": [
    "# | hide\n",
    "%load_ext autoreload\n",
    "%autoreload 2\n",
    "\n",
    "from nbdev.showdoc import *\n",
    "from fastcore.test import *"
   ]
  },
  {
   "cell_type": "markdown",
   "metadata": {},
   "source": [
    "# SymEval\n",
    "\n",
    "> An elaborate answer extraction and correctness judgement pipeline based on regular expressions and SymPy symbolic calculation, which is able to correctly process\n",
    "> - most **mathematical objects** such as matrices (vectors), intervals, symbols besides numbers,\n",
    "> - as well as some **special texts** like bool expressions, dates and times."
   ]
  },
  {
   "cell_type": "markdown",
   "metadata": {},
   "source": [
    "## Installation\n",
    "\n",
    "For common users/developers, please just run the following command the install the  package:\n",
    "\n",
    "```shell\n",
    "pip install \"git+https://github.com/tongyx361/symeval.git\"\n",
    "```\n"
   ]
  },
  {
   "cell_type": "markdown",
   "metadata": {},
   "source": [
    "## Quick Start"
   ]
  },
  {
   "cell_type": "code",
   "execution_count": null,
   "metadata": {},
   "outputs": [],
   "source": [
    "from symeval import *\n",
    "\n",
    "evaluator = (\n",
    "    EvaluatorMathBatch()\n",
    ")  # By default, the evaluator only extract answers from the boxed expression."
   ]
  },
  {
   "cell_type": "markdown",
   "metadata": {},
   "source": [
    "`symeval` provides elaborate answer extraction and correctness judgement pipelines based on regular expressions and SymPy symbolic calculation, which is able to correctly process\n",
    "\n",
    "- most **mathematical objects** such as matrices (vectors), intervals, symbols besides numbers,\n",
    "- as well as some **special texts** like bool expressions, dates and times.\n",
    "\n",
    "`EvaluatorMath` implements an elaborate evaluation pipeline for mathematical reasoning tasks.\n",
    "\n",
    "SymPy symbolic calculation causes risks of ex-long evaluation time.\n",
    "\n",
    "To address this, we implement `EvaluatorMathBatch` to evaluate in batch with **timeout** but still efficiently.\n",
    "\n"
   ]
  },
  {
   "cell_type": "code",
   "execution_count": null,
   "metadata": {},
   "outputs": [
    {
     "name": "stderr",
     "output_type": "stream",
     "text": [
      "Judging: 100%|██████████| 2/2 [00:00<00:00, 19463.13it/s]\n"
     ]
    }
   ],
   "source": [
    "test_eq(\n",
    "    evaluator.batch_eq(ref_answers=[\"1/2\", \"1/2\"], pred_answers=[\"0.5\", \"2/4\"]),\n",
    "    [True] * 2,\n",
    ")"
   ]
  },
  {
   "cell_type": "markdown",
   "metadata": {},
   "source": [
    "\n",
    "\n",
    "Here we provide a quick start guide. For more details, please refer to the [API reference](https://tongyx361.github.io/symeval/core.html)."
   ]
  },
  {
   "cell_type": "code",
   "execution_count": null,
   "metadata": {},
   "outputs": [
    {
     "data": {
      "text/markdown": [
       "---\n",
       "\n",
       "[source](https://github.com/tongyx361/symeval/blob/main/symeval/core.py#LNone){target=\"_blank\" style=\"float:right; font-size:smaller\"}\n",
       "\n",
       "### EvaluatorMathBatch\n",
       "\n",
       ">      EvaluatorMathBatch (ans_extract_mode:str='boxed',\n",
       ">                          include_percentage:bool=True, rel_tol:float=1e-09,\n",
       ">                          abs_tol:float=1e-08, percent_rel_tol:float=0.001,\n",
       ">                          ascii_only:bool=True, timeout:int=5, n_procs:int=96,\n",
       ">                          use_tqdm:bool=True)\n",
       "\n",
       "*Batch evaluator for math problems, capable of extracting answer segment from complex resp and processing various mathematical objects\n",
       "(e.g. fractions, symbolic expressions, matrices, vectors) and special text (e.g. bool values).*\n",
       "\n",
       "|    | **Type** | **Default** | **Details** |\n",
       "| -- | -------- | ----------- | ----------- |\n",
       "| ans_extract_mode | str | boxed |  |\n",
       "| include_percentage | bool | True | Whether to include percentage comparisons. |\n",
       "| rel_tol | float | 1e-09 | The relative tolerance for numerical comparisons. |\n",
       "| abs_tol | float | 1e-08 | The absolute tolerance for numerical comparisons. Necessary for precision issues. |\n",
       "| percent_rel_tol | float | 0.001 | The absolute tolerance for percentage comparisons. |\n",
       "| ascii_only | bool | True | Only allowing ASCII characters |\n",
       "| timeout | int | 5 | The timeout for each evaluation. |\n",
       "| n_procs | int | 96 |  |\n",
       "| use_tqdm | bool | True |  |"
      ],
      "text/plain": [
       "---\n",
       "\n",
       "[source](https://github.com/tongyx361/symeval/blob/main/symeval/core.py#LNone){target=\"_blank\" style=\"float:right; font-size:smaller\"}\n",
       "\n",
       "### EvaluatorMathBatch\n",
       "\n",
       ">      EvaluatorMathBatch (ans_extract_mode:str='boxed',\n",
       ">                          include_percentage:bool=True, rel_tol:float=1e-09,\n",
       ">                          abs_tol:float=1e-08, percent_rel_tol:float=0.001,\n",
       ">                          ascii_only:bool=True, timeout:int=5, n_procs:int=96,\n",
       ">                          use_tqdm:bool=True)\n",
       "\n",
       "*Batch evaluator for math problems, capable of extracting answer segment from complex resp and processing various mathematical objects\n",
       "(e.g. fractions, symbolic expressions, matrices, vectors) and special text (e.g. bool values).*\n",
       "\n",
       "|    | **Type** | **Default** | **Details** |\n",
       "| -- | -------- | ----------- | ----------- |\n",
       "| ans_extract_mode | str | boxed |  |\n",
       "| include_percentage | bool | True | Whether to include percentage comparisons. |\n",
       "| rel_tol | float | 1e-09 | The relative tolerance for numerical comparisons. |\n",
       "| abs_tol | float | 1e-08 | The absolute tolerance for numerical comparisons. Necessary for precision issues. |\n",
       "| percent_rel_tol | float | 0.001 | The absolute tolerance for percentage comparisons. |\n",
       "| ascii_only | bool | True | Only allowing ASCII characters |\n",
       "| timeout | int | 5 | The timeout for each evaluation. |\n",
       "| n_procs | int | 96 |  |\n",
       "| use_tqdm | bool | True |  |"
      ]
     },
     "execution_count": null,
     "metadata": {},
     "output_type": "execute_result"
    }
   ],
   "source": [
    "show_doc(EvaluatorMathBatch, title_level=3)"
   ]
  },
  {
   "cell_type": "markdown",
   "metadata": {},
   "source": [
    "#### Accurately Extracting Answer Strings\n"
   ]
  },
  {
   "cell_type": "markdown",
   "metadata": {},
   "source": [
    "`EvaluatorMath` can:\n",
    "\n",
    "1. **extract** short answers from long responses rather **accurately**\n",
    "2. and **normalize** into a **mathematical** expression.\n"
   ]
  },
  {
   "cell_type": "code",
   "execution_count": null,
   "metadata": {},
   "outputs": [],
   "source": [
    "evaluator = EvaluatorMathBatch(ans_extract_mode=\"speculate\")\n"
   ]
  },
  {
   "cell_type": "code",
   "execution_count": null,
   "metadata": {},
   "outputs": [
    {
     "data": {
      "text/plain": [
       "'2'"
      ]
     },
     "execution_count": null,
     "metadata": {},
     "output_type": "execute_result"
    }
   ],
   "source": [
    "# MATH-style boxed answer\n",
    "evaluator.extract_ans(\"Therefore, $1+1=\\\\boxed{2}$.\")"
   ]
  },
  {
   "cell_type": "code",
   "execution_count": null,
   "metadata": {},
   "outputs": [
    {
     "data": {
      "text/plain": [
       "'False'"
      ]
     },
     "execution_count": null,
     "metadata": {},
     "output_type": "execute_result"
    }
   ],
   "source": [
    "# Answer around \"answer\"\n",
    "evaluator.extract_ans(\n",
    "    \"Both $1$ and $11$ divide $11,$ so $\\\\boxed{11}=2$, and since $1,$ $2,$ $4,$ $5,$ $10,$ and $20$ divide $20,$ then $\\\\boxed{20}=6$. The inner expression, $\\\\boxed{11}\\\\times\\\\boxed{20}=2\\\\times6=12$. Finally, $\\\\boxed{12}=6$ because $1,$ $2,$ $3,$ $4,$ $6,$ and $12$ divide $12.$\\n\\nTherefore, $6$ is our answer. Please note that we have not boxed the correct answer as we normally do, as that would be especially confusing for this problem.\"\n",
    ")"
   ]
  },
  {
   "cell_type": "code",
   "execution_count": null,
   "metadata": {},
   "outputs": [
    {
     "data": {
      "text/plain": [
       "'False'"
      ]
     },
     "execution_count": null,
     "metadata": {},
     "output_type": "execute_result"
    }
   ],
   "source": [
    "# Use the last number by default\n",
    "evaluator.extract_ans(\n",
    "    'First, we need to count the total number of letters in the word \"CIRCLE\". There are 6 letters.\\n\\nNext, we need to count the number of distinct letters. There are 6 distinct letters in the word \"CIRCLE\": C, I, R, L, E, and G.\\n\\nNow, let\\'s consider the arrangements of the distinct letters. The number of ways to arrange n distinct items is n factorial (n!). So, we have 6! = 6 × 5 × 4 × 3 × 2 × 1 = 720 ways to arrange the distinct letters.\\n\\nHowever, the word \"CIRCLE\" has one letter that repeats (the letter \\'C\\' repeats twice). We have over-counted the number of distinct arrangements by including arrangements that are just rotations of each other (for example, \"CIRCLE\" and \"LCIRCE\" are considered different arrangements here, but they are the same word when read).\\n\\nTo correct for this, we divide the total number of arrangements by the number of ways to arrange the repeated letters. The number of ways to arrange 2 identical items is 2! = 2 × 1 = 2. So, we divide the total number of arrangements by 2 to get the correct number of distinct arrangements.\\n\\nTherefore, the number of ways to arrange the letters of the word \"CIRCLE\" is 720 ÷ 2 = 360.'\n",
    ")\n",
    "# More cases ..."
   ]
  },
  {
   "cell_type": "code",
   "execution_count": null,
   "metadata": {},
   "outputs": [
    {
     "data": {
      "text/plain": [
       "'Theansweris1/2'"
      ]
     },
     "execution_count": null,
     "metadata": {},
     "output_type": "execute_result"
    }
   ],
   "source": [
    "# Normalize fraction\n",
    "evaluator.extract_ans(\"The answer is 1/2\")"
   ]
  },
  {
   "cell_type": "code",
   "execution_count": null,
   "metadata": {},
   "outputs": [
    {
     "data": {
      "text/plain": [
       "'Theansweris\\\\begin{array}3\\\\\\\\frac{\\\\pi}{2}\\\\end{array}'"
      ]
     },
     "execution_count": null,
     "metadata": {},
     "output_type": "execute_result"
    }
   ],
   "source": [
    "# Normalize pmatrix\n",
    "evaluator.extract_ans(\n",
    "    \"The answer is \\\\begin{pmatrix} 3 \\\\\\\\ \\\\frac{\\\\pi}{2} \\\\end{pmatrix}\"\n",
    ")\n",
    "# More cases ..."
   ]
  },
  {
   "cell_type": "markdown",
   "metadata": {},
   "source": [
    "More test cases:\n"
   ]
  },
  {
   "cell_type": "code",
   "execution_count": null,
   "metadata": {},
   "outputs": [],
   "source": [
    "# |code-fold: true\n",
    "test_eq(evaluator.norm_ans_str(\"864 \\\\mbox{ inches}^2\"), \"864\")\n",
    "test_eq(evaluator.norm_ans_str(\"\\\\frac{270}7\\\\text{ degrees}\"), \"\\\\frac{270}7\")\n",
    "test_eq(evaluator.norm_ans_str(\".0000672\"), \"0.0000672\")\n",
    "test_eq(\n",
    "    evaluator.extract_ans(\n",
    "        \"The sum of the interior angles in any $n$-sided polygon is $180(n-2)$ degrees, so the angle measures in a polygon with 7 sides sum to $180(7-2) = 900$ degrees, which means that the desired polygon has more than 7 sides.  Meanwhile, the angle measures in a polygon with 8 sides sum to $180(8-2) = 1080$ degrees.  So, it's possible that the polygon has $\\\\boxed{8}$ sides, and that the last angle measures $10^\\\\circ$.\\n\\nTo see that this is the only possibility, note that the angle measures in a polygon with 9 sides sum to $180(9-2) = 1260$ degrees.  Therefore, if the polygon has more than 8 sides, then the last interior angle must measure at least $1260^\\\\circ - 1070^\\\\circ = 190^\\\\circ$.  But this is impossible because each interior angle of a convex polygon has measure less than $180^\\\\circ$.\"\n",
    "    ),\n",
    "    \"8\",\n",
    ")"
   ]
  },
  {
   "cell_type": "markdown",
   "metadata": {},
   "source": [
    "#### Correctly Processing Various Mathematical Objects / Special Text\n"
   ]
  },
  {
   "cell_type": "markdown",
   "metadata": {},
   "source": [
    "`EvaluatorMath`, based on regular expressions and [SymPy](https://www.sympy.org) symbolic calculation, is able to correctly process\n",
    "\n",
    "- most **mathematical objects** such as matrices (vectors), intervals, symbols besides numbers,\n",
    "- as well as some **special texts** like bool expressions, dates and times.\n"
   ]
  },
  {
   "cell_type": "code",
   "execution_count": null,
   "metadata": {},
   "outputs": [
    {
     "data": {
      "text/plain": [
       "True"
      ]
     },
     "execution_count": null,
     "metadata": {},
     "output_type": "execute_result"
    }
   ],
   "source": [
    "evaluator.eq(\"x+y\", \"y+x\") == True  # Expression"
   ]
  },
  {
   "cell_type": "code",
   "execution_count": null,
   "metadata": {},
   "outputs": [
    {
     "data": {
      "text/plain": [
       "True"
      ]
     },
     "execution_count": null,
     "metadata": {},
     "output_type": "execute_result"
    }
   ],
   "source": [
    "evaluator.eq(\"\\\\frac{1}{2}\", \"0.5\") == True  # LaTeX"
   ]
  },
  {
   "cell_type": "code",
   "execution_count": null,
   "metadata": {},
   "outputs": [
    {
     "data": {
      "text/plain": [
       "True"
      ]
     },
     "execution_count": null,
     "metadata": {},
     "output_type": "execute_result"
    }
   ],
   "source": [
    "evaluator.eq(\n",
    "    \"\\\\begin{array}1\\\\\\\\2\\\\end{array}\",\n",
    "    \"1,2\",\n",
    ")  # Matrix (Vector)"
   ]
  },
  {
   "cell_type": "code",
   "execution_count": null,
   "metadata": {},
   "outputs": [
    {
     "data": {
      "text/plain": [
       "True"
      ]
     },
     "execution_count": null,
     "metadata": {},
     "output_type": "execute_result"
    }
   ],
   "source": [
    "evaluator.eq(\"{1,2}\", \"{2,1}\", compare_sets=True)  # Set"
   ]
  },
  {
   "cell_type": "code",
   "execution_count": null,
   "metadata": {},
   "outputs": [
    {
     "data": {
      "text/plain": [
       "True"
      ]
     },
     "execution_count": null,
     "metadata": {},
     "output_type": "execute_result"
    }
   ],
   "source": [
    "evaluator.eq(\"no\", \"false\")  # Bool\n",
    "# More mathematical objects and special texts ..."
   ]
  },
  {
   "cell_type": "markdown",
   "metadata": {},
   "source": [
    "More test cases:\n"
   ]
  },
  {
   "cell_type": "code",
   "execution_count": null,
   "metadata": {},
   "outputs": [],
   "source": [
    "# |code-fold: true\n",
    "test_eq(evaluator.eq(\"251,7\\\\\\\\ \\\\noindent\", \"0\"), False)\n",
    "test_eq(evaluator.eq(\"3.54*10^{-7}\", \"3.54e-07\"), True)\n",
    "test_eq(evaluator.eq(r\"\\frac{1}{2}\", \"0.5\"), True)\n",
    "test_eq(evaluator.eq(\"1\", \"100\"), False)\n",
    "test_eq(evaluator.eq(\"100\", \"1\"), False)\n",
    "test_eq(evaluator.eq(\"3.04\", \"0.0304\", False), True)\n",
    "test_eq(evaluator.eq([\"0.0304\", 0.0304], \"3.04\"), True)\n",
    "test_eq(evaluator.eq(\"x<-1\", \"x>3\"), False)\n",
    "test_eq(\n",
    "    evaluator.eq(\"(-\\\\infty,0)\\\\cup(0,\\\\infty)\", \"(-\\\\infty,0)\\\\cup(0,\\\\infty)\"),\n",
    "    True,\n",
    ")\n",
    "test_eq(evaluator.eq(\"1+2,2+1\", \"2+1,1+2\"), True)\n",
    "test_eq(evaluator.eq(\"5\", \"5\"), True)\n",
    "test_eq(evaluator.eq(\"0.1 + 0.2\", \"0.3\"), True)  # `0.1 + 0.2 == 0.3` is `False`\n",
    "test_eq(evaluator.eq(\"x + y\", \"y + x\"), True)\n",
    "test_eq(evaluator.eq(\"C\", \"C\"), True)\n",
    "test_eq(evaluator.eq(\"1,234\", \"1234\"), True)\n",
    "test_eq(evaluator.eq(\"12,34\", \"(12,34)\"), True)\n",
    "\n",
    "test_eq(evaluator.eq(\"\\\\$ 5\", \"5\"), True)\n",
    "test_eq(evaluator.eq(\"3 * \\\\sqrt{13}\", \"3\\\\sqrt{13}\"), True)\n",
    "test_eq(evaluator.eq(\"\\\\pi/2\", \"\\\\frac{\\\\pi}{2}\"), True)\n",
    "test_eq(evaluator.eq(\"(3,\\\\pi/2)\", \"(3,\\\\frac{\\\\pi}{2})\"), True)\n",
    "test_eq(evaluator.eq(\"23000\", \"\\\\$23{,}000\"), True)\n",
    "test_eq(evaluator.eq(r\"\\left(1,2\\right)\", r\"\\left(2,1\\right)\", compare_sets=True), True)\n",
    "test_eq(evaluator.eq(\"White\", \"white\"), True)\n",
    "test_eq(evaluator.eq(\"[0,3)\", \"[0,1]\"), False)\n",
    "test_eq(evaluator.eq(\"[0,1]\", \"[0,3)\"), False)\n",
    "test_eq(evaluator.eq(\"1001.5\", \"1001\"), False)\n",
    "test_eq(evaluator.eq(\"\\\\frac{2003}{2}\", \"1001\"), False)"
   ]
  },
  {
   "cell_type": "code",
   "execution_count": null,
   "metadata": {},
   "outputs": [],
   "source": [
    "test_eq(evaluator.eq(\"-2,1\", \"1,-2\", compare_sets=True), True)"
   ]
  },
  {
   "cell_type": "markdown",
   "metadata": {},
   "source": [
    "#### Normalized Majority Voting"
   ]
  },
  {
   "cell_type": "code",
   "execution_count": null,
   "metadata": {},
   "outputs": [
    {
     "name": "stderr",
     "output_type": "stream",
     "text": [
      "Judging: 100%|██████████| 7/7 [00:00<00:00, 55188.21it/s]"
     ]
    },
    {
     "name": "stdout",
     "output_type": "stream",
     "text": [
      "maj_answers_list = [['', '', '1', '1', '2', '2', '2', '3']] <- norm_answers_list = [['', '', '1', '2', '2', '3', '3', '3']]\n"
     ]
    },
    {
     "name": "stderr",
     "output_type": "stream",
     "text": [
      "\n"
     ]
    }
   ],
   "source": [
    "maj_answers_list, norm_answers_list = evaluator.batch_get_maj_answers(\n",
    "    [[\"\", \"\", \"1\", \"2\", \"2\", \"3\", \"3\", \"3\"]]\n",
    ")\n",
    "print(f\"{maj_answers_list = } <- {norm_answers_list = }\")"
   ]
  },
  {
   "cell_type": "markdown",
   "metadata": {},
   "source": [
    "### Parsing LaTeX\n"
   ]
  },
  {
   "cell_type": "markdown",
   "metadata": {},
   "source": [
    "#### Interval\n"
   ]
  },
  {
   "cell_type": "code",
   "execution_count": null,
   "metadata": {},
   "outputs": [],
   "source": [
    "from symeval import latex2sympy_interval"
   ]
  },
  {
   "cell_type": "code",
   "execution_count": null,
   "metadata": {},
   "outputs": [
    {
     "data": {
      "text/latex": [
       "$\\displaystyle \\left(-11, -10\\right)$"
      ],
      "text/plain": [
       "Interval.open(-11, -10)"
      ]
     },
     "execution_count": null,
     "metadata": {},
     "output_type": "execute_result"
    }
   ],
   "source": [
    "latex2sympy_interval(\"(-11,-10)\\\\cup\\\\{-\\\\sqrt{110}\\\\}\")"
   ]
  },
  {
   "cell_type": "code",
   "execution_count": null,
   "metadata": {},
   "outputs": [
    {
     "data": {
      "text/latex": [
       "$\\displaystyle \\left(-\\infty, 0\\right) \\cup \\left(0, \\infty\\right)$"
      ],
      "text/plain": [
       "Union(Interval.open(-oo, 0), Interval.open(0, oo))"
      ]
     },
     "execution_count": null,
     "metadata": {},
     "output_type": "execute_result"
    }
   ],
   "source": [
    "latex2sympy_interval(\"(-\\\\infty, 0) \\\\cup (0, \\\\infty)\")"
   ]
  },
  {
   "cell_type": "code",
   "execution_count": null,
   "metadata": {},
   "outputs": [
    {
     "data": {
      "text/latex": [
       "$\\displaystyle \\left(a + b, b\\right]$"
      ],
      "text/plain": [
       "Interval.Lopen(a + b, b)"
      ]
     },
     "execution_count": null,
     "metadata": {},
     "output_type": "execute_result"
    }
   ],
   "source": [
    "latex2sympy_interval(\"(a+b,b]\")"
   ]
  },
  {
   "cell_type": "markdown",
   "metadata": {},
   "source": [
    "#### Matrix / Vector\n"
   ]
  },
  {
   "cell_type": "code",
   "execution_count": null,
   "metadata": {},
   "outputs": [],
   "source": [
    "from symeval import EvaluatorMathBatch\n",
    "\n",
    "evaluator = EvaluatorMathBatch()"
   ]
  },
  {
   "cell_type": "code",
   "execution_count": null,
   "metadata": {},
   "outputs": [
    {
     "data": {
      "text/latex": [
       "$\\displaystyle \\left[\\begin{matrix}\\sqrt{400 \\cos^{2}{\\left(\\frac{9 \\pi}{44} \\right)}} & \\frac{\\pi}{4}\\end{matrix}\\right]$"
      ],
      "text/plain": [
       "Matrix([[sqrt(400*cos((9*pi)/44)**2), pi/4]])"
      ]
     },
     "execution_count": null,
     "metadata": {},
     "output_type": "execute_result"
    }
   ],
   "source": [
    "evaluator.latex2matrix(r\"\\sqrt{400\\cos^2(9\\pi/44)},\\frac{\\pi}{4}\")"
   ]
  },
  {
   "cell_type": "code",
   "execution_count": null,
   "metadata": {},
   "outputs": [
    {
     "data": {
      "text/latex": [
       "$\\displaystyle \\left[\\begin{matrix}\\frac{1}{2} & 0 & - \\frac{\\sqrt{3}}{2}\\\\0 & 1 & 0\\\\\\frac{\\sqrt{3}}{2} & 0 & \\frac{1}{2}\\end{matrix}\\right]$"
      ],
      "text/plain": [
       "Matrix([\n",
       "[      1/2, 0, -1*sqrt(3)/2],\n",
       "[        0, 1,            0],\n",
       "[sqrt(3)/2, 0,          1/2]])"
      ]
     },
     "execution_count": null,
     "metadata": {},
     "output_type": "execute_result"
    }
   ],
   "source": [
    "evaluator.latex2matrix(\n",
    "    r\"\\begin{pmatrix} \\frac{1}{2} & 0 & -\\frac{\\sqrt{3}}{2} \\\\ 0 & 1 & 0 \\\\ \\frac{\\sqrt{3}}{2} & 0 & \\frac{1}{2} \\end{pmatrix}\"\n",
    ")"
   ]
  },
  {
   "cell_type": "code",
   "execution_count": null,
   "metadata": {},
   "outputs": [],
   "source": [
    "test_eq(\n",
    "    evaluator.latex2matrix(\"\\\\begin{pmatrix}-18\\\\\\\\-49\\\\\\\\96\\\\end{pmatrix}\"),\n",
    "    Matrix([[-18, -49, 96]]),\n",
    ")\n",
    "test_eq(\n",
    "    evaluator.latex2matrix(\"\\\\begin{pmatrix} 2 & 3 \\\\\\\\ 0 & -2 \\\\end{pmatrix}\"),\n",
    "    Matrix([[2, 3], [0, -2]]),\n",
    ")"
   ]
  },
  {
   "cell_type": "markdown",
   "metadata": {},
   "source": [
    "### Normalization\n"
   ]
  },
  {
   "cell_type": "code",
   "execution_count": null,
   "metadata": {},
   "outputs": [],
   "source": [
    "test_eq(evaluator.norm_math_str(\"251,7\\\\\\\\ \\\\noindent\"), \"251,7\")"
   ]
  },
  {
   "cell_type": "code",
   "execution_count": null,
   "metadata": {},
   "outputs": [],
   "source": [
    "test_eq(fix_a_slash_b(\"(3/4)\\\\sqrt{3}\"), \"(\\\\frac{3}{4})\\\\sqrt{3}\")"
   ]
  },
  {
   "cell_type": "code",
   "execution_count": null,
   "metadata": {},
   "outputs": [],
   "source": [
    "test_eq(evaluator.norm_pm(\"x\\\\pmy\"), \"x-y,x+y\")\n",
    "test_eq(evaluator.norm_pm(\"a\\\\mpb\"), \"a-b,a+b\")\n",
    "test_eq(evaluator.norm_pm(\"1\\\\pm\\\\sqrt{19}\"), \"1-\\\\sqrt{19},1+\\\\sqrt{19}\")\n",
    "test_eq(evaluator.norm_pm(r\"\\{1\\pm\\sqrt{5},-2\\}\"), \"1-\\\\sqrt{5},1+\\\\sqrt{5},-2\")\n",
    "test_eq(\n",
    "    evaluator.norm_pm(\"\\\\(\\\\frac{1\\\\pm\\\\sqrt{17}}{4}\\\\)\"),\n",
    "    \"\\\\frac{1-\\\\sqrt{17}}{4},\\\\frac{1+\\\\sqrt{17}}{4}\",\n",
    ")\n",
    "test_eq(\n",
    "    evaluator.norm_pm(r\"\\frac{1\\pm\\sqrt{1-\\frac{2}{\\sqrt{3}}}}{1}\"),\n",
    "    \"\\\\frac{1-\\\\sqrt{1-\\\\frac{2}{\\\\sqrt{3}}}}{1},\\\\frac{1+\\\\sqrt{1-\\\\frac{2}{\\\\sqrt{3}}}}{1}\",\n",
    ")"
   ]
  },
  {
   "cell_type": "code",
   "execution_count": null,
   "metadata": {},
   "outputs": [],
   "source": [
    "test_eq(norm_deg(r\"20^\\circ\"), r\"20\")\n",
    "test_eq(norm_deg(r\"\\sin 20^\\circ\"), r\"\\sin {20*\\frac{\\pi}{180}}\")"
   ]
  },
  {
   "cell_type": "code",
   "execution_count": null,
   "metadata": {},
   "outputs": [],
   "source": [
    "test_eq(evaluator.norm_basic_fn(r\"sinx\"), r\"\\sin^{1}x\")\n",
    "test_eq(evaluator.norm_basic_fn(r\"\\sin^2x\"), r\"\\sin^{2}x\")"
   ]
  },
  {
   "cell_type": "markdown",
   "metadata": {},
   "source": [
    "### Processing Sets\n"
   ]
  },
  {
   "cell_type": "code",
   "execution_count": null,
   "metadata": {},
   "outputs": [],
   "source": [
    "test_eq(evaluator.extract_set(\"{2,1}\"), [\"1\", \"2\"])"
   ]
  },
  {
   "cell_type": "code",
   "execution_count": null,
   "metadata": {},
   "outputs": [],
   "source": [
    "test_eq(is_set(\"{2,1}\"), True)\n",
    "test_eq(is_set(\"orange\"), False)\n",
    "test_eq(is_set(\"x<-1orx>3\"), True)\n",
    "test_eq(is_set(\"(3/4)sqrt(3)\"), False)"
   ]
  },
  {
   "cell_type": "markdown",
   "metadata": {},
   "source": [
    "### Manipulating Strings\n"
   ]
  },
  {
   "cell_type": "code",
   "execution_count": null,
   "metadata": {},
   "outputs": [],
   "source": [
    "test_eq(evaluator.remove_first_paren_pair(\"{white}\", \"{\"), \"white\")"
   ]
  },
  {
   "cell_type": "markdown",
   "metadata": {},
   "source": [
    "## Contribution Guidelines\n",
    "\n",
    "### Setup\n",
    "\n",
    "For intended contributors, we recommend installing the package with the `dev` extras and setting up the pre-commit hooks by running:\n",
    "\n",
    "```shell\n",
    "git clone https://github.com/tongyx361/symeval.git\n",
    "cd symeval\n",
    "pip install \".[dev]\"\n",
    "pre-commit install\n",
    "conda install quarto # For nbdev\n",
    "```\n",
    "\n",
    "### File Structure\n",
    "\n",
    "```\n",
    "symeval\n",
    "├── utils # Repository utilities\n",
    "├── symeval # Package code for common utilities\n",
    "└── nbs # Notebooks and other files to run tests and generate documentation with https://nbdev.fast.ai\n",
    "```\n",
    "\n",
    "### Checklist Before Commit\n",
    "\n",
    "Run the [`prepare-commit.sh`](utils/prepare-commit.sh) to clean the notebooks and export scripts for pipeline notebooks, generate documentation, run tests, render README if needed:\n",
    "\n",
    "```\n",
    "bash utils/prepare-commit.sh\n",
    "```\n"
   ]
  }
 ],
 "metadata": {
  "kernelspec": {
   "display_name": "python3",
   "language": "python",
   "name": "python3"
  }
 },
 "nbformat": 4,
 "nbformat_minor": 4
}
